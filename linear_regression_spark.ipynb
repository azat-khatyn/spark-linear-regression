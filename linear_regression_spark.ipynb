{
 "cells": [
  {
   "cell_type": "code",
   "execution_count": 71,
   "id": "interesting-stake",
   "metadata": {},
   "outputs": [],
   "source": [
    "import pyspark\n",
    "from pyspark.sql import SparkSession\n",
    "from pyspark.sql import Row\n",
    "from pyspark.sql.functions import isnan, when, count, col\n",
    "\n",
    "from pyspark.ml.regression import LinearRegression\n",
    "from pyspark.ml.feature import OneHotEncoder\n",
    "from pyspark.ml.feature import StringIndexer\n",
    "from pyspark.ml.feature import StandardScaler\n",
    "from pyspark.ml.feature import VectorAssembler\n",
    "from pyspark.ml.regression import LinearRegression\n",
    "from pyspark.ml.evaluation import RegressionEvaluator\n",
    "from pyspark.ml.feature import MinMaxScaler\n",
    "from pyspark.ml.linalg import Vectors\n",
    "from pyspark.ml.feature import Imputer\n",
    "from pyspark.ml.stat import Summarizer\n",
    "from pyspark.ml import Pipeline\n",
    "from pyspark.mllib.linalg import Vectors\n",
    "\n",
    "import pandas as pd"
   ]
  },
  {
   "cell_type": "markdown",
   "id": "tough-large",
   "metadata": {},
   "source": [
    "### Exploring SPark MLlib Pipelines on an example of the "
   ]
  },
  {
   "cell_type": "code",
   "execution_count": 2,
   "id": "pressing-spain",
   "metadata": {},
   "outputs": [],
   "source": [
    "spark = SparkSession \\\n",
    "    .builder \\\n",
    "    .master(\"local[*]\") \\\n",
    "    .appName(\"Spark Linear Regression\") \\\n",
    "    .getOrCreate()"
   ]
  },
  {
   "cell_type": "code",
   "execution_count": 3,
   "id": "geographic-apparel",
   "metadata": {},
   "outputs": [
    {
     "data": {
      "text/html": [
       "\n",
       "            <div>\n",
       "                <p><b>SparkSession - in-memory</b></p>\n",
       "                \n",
       "        <div>\n",
       "            <p><b>SparkContext</b></p>\n",
       "\n",
       "            <p><a href=\"http://yanas-air:4040\">Spark UI</a></p>\n",
       "\n",
       "            <dl>\n",
       "              <dt>Version</dt>\n",
       "                <dd><code>v3.0.1</code></dd>\n",
       "              <dt>Master</dt>\n",
       "                <dd><code>local[*]</code></dd>\n",
       "              <dt>AppName</dt>\n",
       "                <dd><code>Spark Linear Regression</code></dd>\n",
       "            </dl>\n",
       "        </div>\n",
       "        \n",
       "            </div>\n",
       "        "
      ],
      "text/plain": [
       "<pyspark.sql.session.SparkSession at 0x112b1ab80>"
      ]
     },
     "execution_count": 3,
     "metadata": {},
     "output_type": "execute_result"
    }
   ],
   "source": [
    "spark"
   ]
  },
  {
   "cell_type": "markdown",
   "id": "qualified-honduras",
   "metadata": {},
   "source": [
    "We are going to work with the *Life Expectancy* Dataset. Let's load it and see:\n",
    "\n",
    "Calling multiple actions like *show* when building a real ML Pipeline wouldn't be optimal, because we will need to go through the whole dataset again and again. But when exploring data - it's ok. "
   ]
  },
  {
   "cell_type": "code",
   "execution_count": 4,
   "id": "tribal-puppy",
   "metadata": {},
   "outputs": [],
   "source": [
    "df_raw = spark.read.load(\"Life Expectancy Data.csv\", format=\"csv\", sep=\",\", inferSchema=\"true\", header=\"true\")"
   ]
  },
  {
   "cell_type": "code",
   "execution_count": 56,
   "id": "available-neighbor",
   "metadata": {},
   "outputs": [
    {
     "data": {
      "text/html": [
       "<div>\n",
       "<style scoped>\n",
       "    .dataframe tbody tr th:only-of-type {\n",
       "        vertical-align: middle;\n",
       "    }\n",
       "\n",
       "    .dataframe tbody tr th {\n",
       "        vertical-align: top;\n",
       "    }\n",
       "\n",
       "    .dataframe thead th {\n",
       "        text-align: right;\n",
       "    }\n",
       "</style>\n",
       "<table border=\"1\" class=\"dataframe\">\n",
       "  <thead>\n",
       "    <tr style=\"text-align: right;\">\n",
       "      <th></th>\n",
       "      <th>Country</th>\n",
       "      <th>Year</th>\n",
       "      <th>Status</th>\n",
       "      <th>Life expectancy</th>\n",
       "      <th>Adult Mortality</th>\n",
       "      <th>infant deaths</th>\n",
       "      <th>Alcohol</th>\n",
       "      <th>percentage expenditure</th>\n",
       "      <th>Hepatitis B</th>\n",
       "      <th>Measles</th>\n",
       "      <th>...</th>\n",
       "      <th>Polio</th>\n",
       "      <th>Total expenditure</th>\n",
       "      <th>Diphtheria</th>\n",
       "      <th>HIV/AIDS</th>\n",
       "      <th>GDP</th>\n",
       "      <th>Population</th>\n",
       "      <th>thinness  1-19 years</th>\n",
       "      <th>thinness 5-9 years</th>\n",
       "      <th>Income composition of resources</th>\n",
       "      <th>Schooling</th>\n",
       "    </tr>\n",
       "  </thead>\n",
       "  <tbody>\n",
       "    <tr>\n",
       "      <th>0</th>\n",
       "      <td>Afghanistan</td>\n",
       "      <td>2015</td>\n",
       "      <td>Developing</td>\n",
       "      <td>65.0</td>\n",
       "      <td>263</td>\n",
       "      <td>62</td>\n",
       "      <td>0.01</td>\n",
       "      <td>71.279624</td>\n",
       "      <td>65</td>\n",
       "      <td>1154</td>\n",
       "      <td>...</td>\n",
       "      <td>6</td>\n",
       "      <td>8.16</td>\n",
       "      <td>65</td>\n",
       "      <td>0.1</td>\n",
       "      <td>584.259210</td>\n",
       "      <td>33736494.0</td>\n",
       "      <td>17.2</td>\n",
       "      <td>17.3</td>\n",
       "      <td>0.479</td>\n",
       "      <td>10.1</td>\n",
       "    </tr>\n",
       "    <tr>\n",
       "      <th>1</th>\n",
       "      <td>Afghanistan</td>\n",
       "      <td>2014</td>\n",
       "      <td>Developing</td>\n",
       "      <td>59.9</td>\n",
       "      <td>271</td>\n",
       "      <td>64</td>\n",
       "      <td>0.01</td>\n",
       "      <td>73.523582</td>\n",
       "      <td>62</td>\n",
       "      <td>492</td>\n",
       "      <td>...</td>\n",
       "      <td>58</td>\n",
       "      <td>8.18</td>\n",
       "      <td>62</td>\n",
       "      <td>0.1</td>\n",
       "      <td>612.696514</td>\n",
       "      <td>327582.0</td>\n",
       "      <td>17.5</td>\n",
       "      <td>17.5</td>\n",
       "      <td>0.476</td>\n",
       "      <td>10.0</td>\n",
       "    </tr>\n",
       "    <tr>\n",
       "      <th>2</th>\n",
       "      <td>Afghanistan</td>\n",
       "      <td>2013</td>\n",
       "      <td>Developing</td>\n",
       "      <td>59.9</td>\n",
       "      <td>268</td>\n",
       "      <td>66</td>\n",
       "      <td>0.01</td>\n",
       "      <td>73.219243</td>\n",
       "      <td>64</td>\n",
       "      <td>430</td>\n",
       "      <td>...</td>\n",
       "      <td>62</td>\n",
       "      <td>8.13</td>\n",
       "      <td>64</td>\n",
       "      <td>0.1</td>\n",
       "      <td>631.744976</td>\n",
       "      <td>31731688.0</td>\n",
       "      <td>17.7</td>\n",
       "      <td>17.7</td>\n",
       "      <td>0.470</td>\n",
       "      <td>9.9</td>\n",
       "    </tr>\n",
       "    <tr>\n",
       "      <th>3</th>\n",
       "      <td>Afghanistan</td>\n",
       "      <td>2012</td>\n",
       "      <td>Developing</td>\n",
       "      <td>59.5</td>\n",
       "      <td>272</td>\n",
       "      <td>69</td>\n",
       "      <td>0.01</td>\n",
       "      <td>78.184215</td>\n",
       "      <td>67</td>\n",
       "      <td>2787</td>\n",
       "      <td>...</td>\n",
       "      <td>67</td>\n",
       "      <td>8.52</td>\n",
       "      <td>67</td>\n",
       "      <td>0.1</td>\n",
       "      <td>669.959000</td>\n",
       "      <td>3696958.0</td>\n",
       "      <td>17.9</td>\n",
       "      <td>18.0</td>\n",
       "      <td>0.463</td>\n",
       "      <td>9.8</td>\n",
       "    </tr>\n",
       "    <tr>\n",
       "      <th>4</th>\n",
       "      <td>Afghanistan</td>\n",
       "      <td>2011</td>\n",
       "      <td>Developing</td>\n",
       "      <td>59.2</td>\n",
       "      <td>275</td>\n",
       "      <td>71</td>\n",
       "      <td>0.01</td>\n",
       "      <td>7.097109</td>\n",
       "      <td>68</td>\n",
       "      <td>3013</td>\n",
       "      <td>...</td>\n",
       "      <td>68</td>\n",
       "      <td>7.87</td>\n",
       "      <td>68</td>\n",
       "      <td>0.1</td>\n",
       "      <td>63.537231</td>\n",
       "      <td>2978599.0</td>\n",
       "      <td>18.2</td>\n",
       "      <td>18.2</td>\n",
       "      <td>0.454</td>\n",
       "      <td>9.5</td>\n",
       "    </tr>\n",
       "  </tbody>\n",
       "</table>\n",
       "<p>5 rows × 22 columns</p>\n",
       "</div>"
      ],
      "text/plain": [
       "       Country  Year      Status  Life expectancy   Adult Mortality  \\\n",
       "0  Afghanistan  2015  Developing              65.0              263   \n",
       "1  Afghanistan  2014  Developing              59.9              271   \n",
       "2  Afghanistan  2013  Developing              59.9              268   \n",
       "3  Afghanistan  2012  Developing              59.5              272   \n",
       "4  Afghanistan  2011  Developing              59.2              275   \n",
       "\n",
       "   infant deaths  Alcohol  percentage expenditure  Hepatitis B  Measles   ...  \\\n",
       "0             62     0.01               71.279624           65      1154  ...   \n",
       "1             64     0.01               73.523582           62       492  ...   \n",
       "2             66     0.01               73.219243           64       430  ...   \n",
       "3             69     0.01               78.184215           67      2787  ...   \n",
       "4             71     0.01                7.097109           68      3013  ...   \n",
       "\n",
       "   Polio  Total expenditure  Diphtheria    HIV/AIDS         GDP  Population  \\\n",
       "0      6               8.16           65        0.1  584.259210  33736494.0   \n",
       "1     58               8.18           62        0.1  612.696514    327582.0   \n",
       "2     62               8.13           64        0.1  631.744976  31731688.0   \n",
       "3     67               8.52           67        0.1  669.959000   3696958.0   \n",
       "4     68               7.87           68        0.1   63.537231   2978599.0   \n",
       "\n",
       "    thinness  1-19 years   thinness 5-9 years  \\\n",
       "0                   17.2                 17.3   \n",
       "1                   17.5                 17.5   \n",
       "2                   17.7                 17.7   \n",
       "3                   17.9                 18.0   \n",
       "4                   18.2                 18.2   \n",
       "\n",
       "   Income composition of resources  Schooling  \n",
       "0                            0.479       10.1  \n",
       "1                            0.476       10.0  \n",
       "2                            0.470        9.9  \n",
       "3                            0.463        9.8  \n",
       "4                            0.454        9.5  \n",
       "\n",
       "[5 rows x 22 columns]"
      ]
     },
     "execution_count": 56,
     "metadata": {},
     "output_type": "execute_result"
    }
   ],
   "source": [
    "df_raw.limit(5).toPandas().head()"
   ]
  },
  {
   "cell_type": "code",
   "execution_count": 6,
   "id": "genetic-pound",
   "metadata": {},
   "outputs": [],
   "source": [
    "df_column_names_cleaned = df_raw\n",
    "for sf in df_column_names_cleaned.schema.fields:\n",
    "    df_column_names_cleaned = df_column_names_cleaned.withColumnRenamed(sf.name, sf.name.strip().lower().replace(' ', '_').replace('/', '_').replace('-', '_'))"
   ]
  },
  {
   "cell_type": "code",
   "execution_count": 9,
   "id": "ideal-firewall",
   "metadata": {},
   "outputs": [
    {
     "data": {
      "text/plain": [
       "['country',\n",
       " 'year',\n",
       " 'status',\n",
       " 'adult_mortality',\n",
       " 'infant_deaths',\n",
       " 'alcohol',\n",
       " 'percentage_expenditure',\n",
       " 'hepatitis_b',\n",
       " 'measles',\n",
       " 'bmi',\n",
       " 'under_five_deaths',\n",
       " 'polio',\n",
       " 'total_expenditure',\n",
       " 'diphtheria',\n",
       " 'hiv_aids',\n",
       " 'gdp',\n",
       " 'population',\n",
       " 'thinness__1_19_years',\n",
       " 'thinness_5_9_years',\n",
       " 'income_composition_of_resources',\n",
       " 'schooling']"
      ]
     },
     "execution_count": 9,
     "metadata": {},
     "output_type": "execute_result"
    }
   ],
   "source": [
    "# features without label\n",
    "label_column = \"life_expectancy\"\n",
    "list_columns = [sf.name for sf in df_column_names_cleaned.schema.fields if sf.name != label_column]\n",
    "list_columns"
   ]
  },
  {
   "cell_type": "markdown",
   "id": "special-indian",
   "metadata": {},
   "source": [
    "### Feature Engineering\n",
    "\n",
    "We will first perform Feature Engineering steps that can be applied on the whole dataset without the risk of data leakage. For example, we can securely drop columns with most null values. However, all the preprocessing steps that involve certain aggregation will be better to perform on data split into train and test sets."
   ]
  },
  {
   "cell_type": "code",
   "execution_count": 10,
   "id": "amateur-engine",
   "metadata": {},
   "outputs": [],
   "source": [
    "# Delete rows where label is missing\n",
    "df_nulls_removed = df_column_names_cleaned.where(\"{} is not null\".format(label_column))"
   ]
  },
  {
   "cell_type": "code",
   "execution_count": 11,
   "id": "informative-election",
   "metadata": {},
   "outputs": [],
   "source": [
    "# numNonzeros"
   ]
  },
  {
   "cell_type": "code",
   "execution_count": 12,
   "id": "efficient-census",
   "metadata": {},
   "outputs": [
    {
     "data": {
      "text/html": [
       "<div>\n",
       "<style scoped>\n",
       "    .dataframe tbody tr th:only-of-type {\n",
       "        vertical-align: middle;\n",
       "    }\n",
       "\n",
       "    .dataframe tbody tr th {\n",
       "        vertical-align: top;\n",
       "    }\n",
       "\n",
       "    .dataframe thead th {\n",
       "        text-align: right;\n",
       "    }\n",
       "</style>\n",
       "<table border=\"1\" class=\"dataframe\">\n",
       "  <thead>\n",
       "    <tr style=\"text-align: right;\">\n",
       "      <th></th>\n",
       "      <th>country</th>\n",
       "      <th>year</th>\n",
       "      <th>status</th>\n",
       "      <th>life_expectancy</th>\n",
       "      <th>adult_mortality</th>\n",
       "      <th>infant_deaths</th>\n",
       "      <th>alcohol</th>\n",
       "      <th>percentage_expenditure</th>\n",
       "      <th>hepatitis_b</th>\n",
       "      <th>measles</th>\n",
       "      <th>...</th>\n",
       "      <th>polio</th>\n",
       "      <th>total_expenditure</th>\n",
       "      <th>diphtheria</th>\n",
       "      <th>hiv_aids</th>\n",
       "      <th>gdp</th>\n",
       "      <th>population</th>\n",
       "      <th>thinness__1_19_years</th>\n",
       "      <th>thinness_5_9_years</th>\n",
       "      <th>income_composition_of_resources</th>\n",
       "      <th>schooling</th>\n",
       "    </tr>\n",
       "  </thead>\n",
       "  <tbody>\n",
       "    <tr>\n",
       "      <th>0</th>\n",
       "      <td>0</td>\n",
       "      <td>0</td>\n",
       "      <td>0</td>\n",
       "      <td>0</td>\n",
       "      <td>0</td>\n",
       "      <td>0</td>\n",
       "      <td>0</td>\n",
       "      <td>0</td>\n",
       "      <td>0</td>\n",
       "      <td>0</td>\n",
       "      <td>...</td>\n",
       "      <td>0</td>\n",
       "      <td>0</td>\n",
       "      <td>0</td>\n",
       "      <td>0</td>\n",
       "      <td>0</td>\n",
       "      <td>0</td>\n",
       "      <td>0</td>\n",
       "      <td>0</td>\n",
       "      <td>0</td>\n",
       "      <td>0</td>\n",
       "    </tr>\n",
       "  </tbody>\n",
       "</table>\n",
       "<p>1 rows × 22 columns</p>\n",
       "</div>"
      ],
      "text/plain": [
       "   country  year  status  life_expectancy  adult_mortality  infant_deaths  \\\n",
       "0        0     0       0                0                0              0   \n",
       "\n",
       "   alcohol  percentage_expenditure  hepatitis_b  measles  ...  polio  \\\n",
       "0        0                       0            0        0  ...      0   \n",
       "\n",
       "   total_expenditure  diphtheria  hiv_aids  gdp  population  \\\n",
       "0                  0           0         0    0           0   \n",
       "\n",
       "   thinness__1_19_years  thinness_5_9_years  income_composition_of_resources  \\\n",
       "0                     0                   0                                0   \n",
       "\n",
       "   schooling  \n",
       "0          0  \n",
       "\n",
       "[1 rows x 22 columns]"
      ]
     },
     "execution_count": 12,
     "metadata": {},
     "output_type": "execute_result"
    }
   ],
   "source": [
    "# df_nulls_removed.select([count(when(isnan(c), c)).alias(c) for c in df_nulls_removed.columns]).toPandas().head()"
   ]
  },
  {
   "cell_type": "markdown",
   "id": "nutritional-terrorism",
   "metadata": {},
   "source": [
    "Start preparing modules of the ML pipeline."
   ]
  },
  {
   "cell_type": "code",
   "execution_count": 14,
   "id": "separate-magnet",
   "metadata": {},
   "outputs": [],
   "source": [
    "splits = df_nulls_removed.randomSplit([0.8, 0.2])\n",
    "train_df = splits[0]\n",
    "test_df = splits[1]"
   ]
  },
  {
   "cell_type": "code",
   "execution_count": null,
   "id": "removable-dream",
   "metadata": {},
   "outputs": [],
   "source": [
    "# Prepare 3 indexers to one hot encode categorical features"
   ]
  },
  {
   "cell_type": "code",
   "execution_count": null,
   "id": "helpful-cheat",
   "metadata": {},
   "outputs": [],
   "source": [
    "# Start write code df agnostic"
   ]
  },
  {
   "cell_type": "code",
   "execution_count": 16,
   "id": "metropolitan-luxembourg",
   "metadata": {},
   "outputs": [
    {
     "data": {
      "text/plain": [
       "['adult_mortality',\n",
       " 'infant_deaths',\n",
       " 'alcohol',\n",
       " 'percentage_expenditure',\n",
       " 'hepatitis_b',\n",
       " 'measles',\n",
       " 'bmi',\n",
       " 'under_five_deaths',\n",
       " 'polio',\n",
       " 'total_expenditure',\n",
       " 'diphtheria',\n",
       " 'hiv_aids',\n",
       " 'gdp',\n",
       " 'population',\n",
       " 'thinness__1_19_years',\n",
       " 'thinness_5_9_years',\n",
       " 'income_composition_of_resources',\n",
       " 'schooling',\n",
       " 'country_vec',\n",
       " 'year_vec',\n",
       " 'status_vec']"
      ]
     },
     "execution_count": 16,
     "metadata": {},
     "output_type": "execute_result"
    }
   ],
   "source": [
    "cat_features = ['country', 'year', 'status']\n",
    "cat_features_ind = [\"{}_ind\".format(cf) for cf in cat_features]\n",
    "cat_features_vec = [\"{}_vec\".format(cf) for cf in cat_features]\n",
    "# Note: following for comprehansion has time complexity of the product of lengths of lists\n",
    "list_columns_no_cat = [lc for lc in list_columns if lc not in cat_features]\n",
    "final_list_columns = list_columns_no_cat + cat_features_vec\n",
    "final_list_columns"
   ]
  },
  {
   "cell_type": "code",
   "execution_count": 82,
   "id": "interior-month",
   "metadata": {},
   "outputs": [],
   "source": [
    "features_unscaled_col = \"features_unscaled\"\n",
    "features_col = \"features\""
   ]
  },
  {
   "cell_type": "code",
   "execution_count": 83,
   "id": "surrounded-celebrity",
   "metadata": {},
   "outputs": [],
   "source": [
    "indexers = [StringIndexer(inputCol=cat_features[i], outputCol=cat_features_ind[i]) for i in range(len(cat_features))]\n",
    "encoder = OneHotEncoder(inputCols=cat_features_ind, outputCols=cat_features_vec)\n",
    "assembler = VectorAssembler(inputCols=final_list_columns, outputCol=features_unscaled_col).setHandleInvalid(\"skip\")\n",
    "scaler = MinMaxScaler(inputCol=features_unscaled_col, outputCol=features_col)\n",
    "lr = LinearRegression(featuresCol=features_col, labelCol=label_column)"
   ]
  },
  {
   "cell_type": "code",
   "execution_count": 84,
   "id": "turned-taste",
   "metadata": {},
   "outputs": [
    {
     "data": {
      "text/plain": [
       "[StringIndexer_4efb1605e001,\n",
       " StringIndexer_8adf8a32c6ba,\n",
       " StringIndexer_d4553a5dd698,\n",
       " OneHotEncoder_f7191995360d,\n",
       " VectorAssembler_5941b2ba423f,\n",
       " MinMaxScaler_bda7871762a0,\n",
       " LinearRegression_84f8ba2a1b0d]"
      ]
     },
     "execution_count": 84,
     "metadata": {},
     "output_type": "execute_result"
    }
   ],
   "source": [
    "stages = indexers + [encoder, assembler, scaler, lr]\n",
    "stages"
   ]
  },
  {
   "cell_type": "code",
   "execution_count": 76,
   "id": "medieval-mitchell",
   "metadata": {},
   "outputs": [],
   "source": [
    "pipeline = Pipeline(stages=stages)"
   ]
  },
  {
   "cell_type": "code",
   "execution_count": 77,
   "id": "rapid-consequence",
   "metadata": {},
   "outputs": [],
   "source": [
    "model = pipeline.fit(train_df)"
   ]
  },
  {
   "cell_type": "code",
   "execution_count": 86,
   "id": "injured-dating",
   "metadata": {},
   "outputs": [
    {
     "name": "stdout",
     "output_type": "stream",
     "text": [
      "First 5 coefficients: [ -0.67608467 101.50268169  -0.85175586  -2.44337375   0.46890406]\n"
     ]
    }
   ],
   "source": [
    "print(\"First 5 coefficients: \" + str(lr_model.coefficients[:5]))"
   ]
  },
  {
   "cell_type": "code",
   "execution_count": 87,
   "id": "saved-biography",
   "metadata": {},
   "outputs": [
    {
     "name": "stdout",
     "output_type": "stream",
     "text": [
      "Intercept: 71.00042604968357\n"
     ]
    }
   ],
   "source": [
    "print(\"Intercept: \" + str(lr_model.intercept))"
   ]
  },
  {
   "cell_type": "code",
   "execution_count": 43,
   "id": "advisory-tradition",
   "metadata": {},
   "outputs": [],
   "source": [
    "lr_model = model.stages[-1]"
   ]
  },
  {
   "cell_type": "code",
   "execution_count": 46,
   "id": "educated-audit",
   "metadata": {},
   "outputs": [
    {
     "name": "stdout",
     "output_type": "stream",
     "text": [
      "RMSE: 1.567439\n",
      "r2: 0.967992\n"
     ]
    }
   ],
   "source": [
    "trainingSummary = lr_model.summary\n",
    "print(\"RMSE: %f\" % trainingSummary.rootMeanSquaredError)\n",
    "print(\"r2: %f\" % trainingSummary.r2)"
   ]
  },
  {
   "cell_type": "code",
   "execution_count": 78,
   "id": "manual-carter",
   "metadata": {},
   "outputs": [],
   "source": [
    "prediction = model.transform(test_df)"
   ]
  },
  {
   "cell_type": "code",
   "execution_count": 47,
   "id": "funny-trash",
   "metadata": {},
   "outputs": [],
   "source": [
    "lr_evaluator = RegressionEvaluator(predictionCol=\"prediction\", labelCol=label_column, metricName=\"r2\")"
   ]
  },
  {
   "cell_type": "code",
   "execution_count": 50,
   "id": "republican-accreditation",
   "metadata": {},
   "outputs": [
    {
     "name": "stdout",
     "output_type": "stream",
     "text": [
      "R Squared (R2) on test data = 0.961337\n"
     ]
    }
   ],
   "source": [
    "print(\"R Squared (R2) on test data = %g\" % lr_evaluator.evaluate(prediction))"
   ]
  },
  {
   "cell_type": "code",
   "execution_count": 89,
   "id": "incoming-wagner",
   "metadata": {},
   "outputs": [],
   "source": [
    "model.save(\"lr_model_with_preprocessing\")"
   ]
  },
  {
   "cell_type": "code",
   "execution_count": null,
   "id": "accessible-orientation",
   "metadata": {},
   "outputs": [],
   "source": []
  }
 ],
 "metadata": {
  "kernelspec": {
   "display_name": "Python 3",
   "language": "python",
   "name": "python3"
  },
  "language_info": {
   "codemirror_mode": {
    "name": "ipython",
    "version": 3
   },
   "file_extension": ".py",
   "mimetype": "text/x-python",
   "name": "python",
   "nbconvert_exporter": "python",
   "pygments_lexer": "ipython3",
   "version": "3.9.1"
  }
 },
 "nbformat": 4,
 "nbformat_minor": 5
}
